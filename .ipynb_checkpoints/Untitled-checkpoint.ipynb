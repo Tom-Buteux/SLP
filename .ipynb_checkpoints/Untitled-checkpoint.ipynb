{
 "cells": [
  {
   "cell_type": "code",
   "execution_count": 1,
   "id": "d9638a7c",
   "metadata": {},
   "outputs": [],
   "source": [
    "from astropy.io import fits"
   ]
  },
  {
   "cell_type": "code",
   "execution_count": 3,
   "id": "3c918f33",
   "metadata": {},
   "outputs": [],
   "source": [
    "hdul = fits.open('all15-result.fits')"
   ]
  },
  {
   "cell_type": "code",
   "execution_count": 12,
   "id": "2b898ca9",
   "metadata": {},
   "outputs": [
    {
     "name": "stdout",
     "output_type": "stream",
     "text": [
      "3000000\n"
     ]
    }
   ],
   "source": [
    "data = hdul[1].data\n",
    "print(len(data))"
   ]
  },
  {
   "cell_type": "code",
   "execution_count": 13,
   "id": "c91dd487",
   "metadata": {},
   "outputs": [],
   "source": [
    "import pandas as pd"
   ]
  },
  {
   "cell_type": "code",
   "execution_count": 14,
   "id": "8ef539c4",
   "metadata": {},
   "outputs": [],
   "source": [
    "df = pd.DataFrame(data)"
   ]
  },
  {
   "cell_type": "code",
   "execution_count": 22,
   "id": "70fa7772",
   "metadata": {},
   "outputs": [],
   "source": [
    "import numpy as np"
   ]
  },
  {
   "cell_type": "code",
   "execution_count": 23,
   "id": "deedf122",
   "metadata": {},
   "outputs": [
    {
     "name": "stdout",
     "output_type": "stream",
     "text": [
      "<class 'pandas.core.frame.DataFrame'>\n",
      "RangeIndex: 3000000 entries, 0 to 2999999\n",
      "Data columns (total 4 columns):\n",
      " #   Column           Dtype\n",
      "---  ------           -----\n",
      " 0   source_id        >i8  \n",
      " 1   phot_g_mean_mag  >f4  \n",
      " 2   ra               >f8  \n",
      " 3   dec              >f8  \n",
      "dtypes: float32(1), float64(2), int64(1)\n",
      "memory usage: 80.1 MB\n"
     ]
    }
   ],
   "source": [
    "df.info()"
   ]
  },
  {
   "cell_type": "code",
   "execution_count": 27,
   "id": "46f2242d",
   "metadata": {},
   "outputs": [
    {
     "data": {
      "text/plain": [
       "0.019879675701858644"
      ]
     },
     "execution_count": 27,
     "metadata": {},
     "output_type": "execute_result"
    }
   ],
   "source": [
    "np.min(df['dec'])"
   ]
  },
  {
   "cell_type": "code",
   "execution_count": 30,
   "id": "27a9b25e",
   "metadata": {},
   "outputs": [
    {
     "name": "stdout",
     "output_type": "stream",
     "text": [
      "2D coordinates: (3.0, 4.0)\n"
     ]
    }
   ],
   "source": [
    "import numpy as np\n",
    "\n",
    "# Function to project a point onto a plane\n",
    "def project_point_onto_plane(x, y, z, A, B, C, D):\n",
    "    point = np.array([x, y, z])\n",
    "    normal = np.array([A, B, C])\n",
    "    distance = (A*x + B*y + C*z + D) / np.linalg.norm(normal)\n",
    "    projected_point = point - distance * normal\n",
    "    return projected_point\n",
    "\n",
    "# Define the 3D point and plane equation\n",
    "x, y, z = 3, 4, 5\n",
    "A, B, C, D = 0, 0, 1, 0\n",
    "projected_point = project_point_onto_plane(x, y, z, A, B, C, D)\n",
    "\n",
    "# Define a point on the plane and basis vectors\n",
    "p0 = np.array([0, 0, 0])  # Origin of the plane\n",
    "u = np.array([1, 0, 0])  # Basis vector u\n",
    "v = np.array([0, 1, 0])  # Basis vector v\n",
    "\n",
    "# Normalize the basis vectors (if not already normalized)\n",
    "u = u / np.linalg.norm(u)\n",
    "v = v / np.linalg.norm(v)\n",
    "\n",
    "# Map the projected point to 2D coordinates\n",
    "x_2D = np.dot(projected_point - p0, u)\n",
    "y_2D = np.dot(projected_point - p0, v)\n",
    "\n",
    "print(\"2D coordinates:\", (x_2D, y_2D))\n"
   ]
  },
  {
   "cell_type": "code",
   "execution_count": 31,
   "id": "e4f2ffda",
   "metadata": {},
   "outputs": [
    {
     "name": "stdout",
     "output_type": "stream",
     "text": [
      "Ortho1: [ 0.          0.83205029 -0.5547002 ], Ortho2: [-0.96362411  0.14824986  0.22237479]\n",
      "Dot product of vec and ortho1: 0.0\n",
      "Dot product of vec and ortho2: -1.1102230246251565e-16\n"
     ]
    }
   ],
   "source": [
    "import numpy as np\n",
    "\n",
    "def find_orthogonal_vectors(vec):\n",
    "    \"\"\"Find two vectors that are orthogonal to the given vector `vec`.\"\"\"\n",
    "    if np.linalg.norm(vec) == 0:\n",
    "        raise ValueError(\"The input vector must not be the zero vector.\")\n",
    "    \n",
    "    # Normalize the input vector\n",
    "    vec = vec / np.linalg.norm(vec)\n",
    "    \n",
    "    # Initialize candidates for orthogonal vectors\n",
    "    candidates = [np.array([1, 0, 0]), np.array([0, 1, 0]), np.array([0, 0, 1])]\n",
    "    \n",
    "    # Make sure the candidates are not parallel to the input vector\n",
    "    candidates = [c for c in candidates if np.abs(np.dot(vec, c)) < 1.0]\n",
    "    \n",
    "    # Choose one candidate and find a vector orthogonal to it and the input vector\n",
    "    chosen = candidates[0]\n",
    "    ortho1 = np.cross(vec, chosen)\n",
    "    ortho1 = ortho1 / np.linalg.norm(ortho1)  # normalize\n",
    "    \n",
    "    # Find another vector that is orthogonal to both `vec` and `ortho1`\n",
    "    ortho2 = np.cross(vec, ortho1)\n",
    "    ortho2 = ortho2 / np.linalg.norm(ortho2)  # normalize\n",
    "    \n",
    "    return ortho1, ortho2\n",
    "\n",
    "# Test the function\n",
    "vec = np.array([1, 0, 0])\n",
    "ortho1, ortho2 = find_orthogonal_vectors(vec)\n",
    "print(f\"Ortho1: {ortho1}, Ortho2: {ortho2}\")\n",
    "\n",
    "# Validate that they are indeed orthogonal to `vec`\n",
    "print(\"Dot product of vec and ortho1:\", np.dot(vec, ortho1))  # Should be close to 0\n",
    "print(\"Dot product of vec and ortho2:\", np.dot(vec, ortho2))  # Should be close to 0"
   ]
  },
  {
   "cell_type": "code",
   "execution_count": null,
   "id": "f74618e0",
   "metadata": {},
   "outputs": [],
   "source": []
  }
 ],
 "metadata": {
  "kernelspec": {
   "display_name": "Python 3 (ipykernel)",
   "language": "python",
   "name": "python3"
  },
  "language_info": {
   "codemirror_mode": {
    "name": "ipython",
    "version": 3
   },
   "file_extension": ".py",
   "mimetype": "text/x-python",
   "name": "python",
   "nbconvert_exporter": "python",
   "pygments_lexer": "ipython3",
   "version": "3.11.3"
  }
 },
 "nbformat": 4,
 "nbformat_minor": 5
}
